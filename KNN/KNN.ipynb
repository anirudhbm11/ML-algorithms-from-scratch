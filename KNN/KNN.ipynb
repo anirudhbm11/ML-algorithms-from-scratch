{
 "cells": [
  {
   "cell_type": "markdown",
   "metadata": {},
   "source": [
    "# KNN from scratch"
   ]
  },
  {
   "cell_type": "markdown",
   "metadata": {},
   "source": [
    "Simple implementation of K-Nearest Neighbour on Iris dataset"
   ]
  },
  {
   "cell_type": "code",
   "execution_count": 1,
   "metadata": {},
   "outputs": [],
   "source": [
    "import numpy as np\n",
    "import pandas as pd\n",
    "import matplotlib.pyplot as plt\n",
    "import math"
   ]
  },
  {
   "cell_type": "code",
   "execution_count": 2,
   "metadata": {},
   "outputs": [],
   "source": [
    "data=pd.read_csv('Iris.csv')"
   ]
  },
  {
   "cell_type": "code",
   "execution_count": 3,
   "metadata": {},
   "outputs": [],
   "source": [
    "cols=data.shape[1]\n",
    "X=data.iloc[:,0:cols-1]\n",
    "Y=data.iloc[:,cols-1:cols]\n",
    "x=np.array(X)\n",
    "y=np.array(Y)"
   ]
  },
  {
   "cell_type": "code",
   "execution_count": 4,
   "metadata": {},
   "outputs": [],
   "source": [
    "def computedist(x,point):\n",
    "    rows=x.shape[0]\n",
    "    distances=np.zeros(rows)\n",
    "    for i in range(rows):\n",
    "        dist=np.sum((x[i,:]-point)**2)\n",
    "        distances[i]=dist\n",
    "    print(distances)\n",
    "    return distances"
   ]
  },
  {
   "cell_type": "code",
   "execution_count": 5,
   "metadata": {},
   "outputs": [
    {
     "name": "stdout",
     "output_type": "stream",
     "text": [
      "[23.91 25.86 27.55 26.87 24.41 19.51 27.   23.86 29.42 25.11 21.35 24.37\n",
      " 26.68 32.5  21.65 19.63 22.47 23.74 18.22 22.78 20.18 22.68 30.17 21.51\n",
      " 22.3  23.77 22.81 22.59 23.45 25.3  24.82 21.3  22.54 21.54 25.11 26.45\n",
      " 22.52 25.11 29.98 23.27 25.1  30.99 29.62 22.46 19.83 26.32 22.22 27.45\n",
      " 21.88 24.74  1.98  3.85  2.27 10.62  4.21  7.26  3.88 15.79  3.57 11.31\n",
      " 15.9   6.57  8.69  5.16  9.57  3.23  7.41  7.75  7.13  9.7   5.7   6.53\n",
      "  5.39  5.31  4.62  3.69  3.13  3.09  5.86 10.15 10.77 11.07  8.23  5.95\n",
      "  8.41  5.1   2.91  6.46  8.01  9.98  8.86  5.06  8.25 15.51  8.49  7.3\n",
      "  7.54  5.3  15.5   7.98  5.98  7.18  3.3   4.75  4.82  4.12 12.71  3.4\n",
      "  4.79  3.57  3.71  4.9   3.53  8.39  7.98  4.65  3.83  3.59  6.38  7.44\n",
      "  3.54  8.1   4.59  5.16  3.43  2.41  5.33  5.19  5.16  2.25  3.25  2.3\n",
      "  5.37  4.5   5.82  3.34  5.1   3.95  5.65  3.06  4.35  3.47  7.18  4.01\n",
      "  4.39  4.13  5.82  4.06  5.08  5.91]\n"
     ]
    }
   ],
   "source": [
    "point=[8,4,5.2,1.1]\n",
    "distances=computedist(x,point)"
   ]
  },
  {
   "cell_type": "code",
   "execution_count": 6,
   "metadata": {},
   "outputs": [],
   "source": [
    "def nearest_neighbours(distances):\n",
    "    k=int(math.sqrt(len(distances)))\n",
    "    nn=np.zeros(k)\n",
    "    indices=np.argpartition(distances,k)[:k]\n",
    "    return y[indices]"
   ]
  },
  {
   "cell_type": "code",
   "execution_count": 7,
   "metadata": {},
   "outputs": [],
   "source": [
    "ele=nearest_neighbours(distances)"
   ]
  },
  {
   "cell_type": "code",
   "execution_count": 8,
   "metadata": {},
   "outputs": [],
   "source": [
    "def predict(ele):\n",
    "    vir=setos=versi=0\n",
    "    for i in ele:\n",
    "        if i=='Iris-virginica':\n",
    "            vir=vir+1\n",
    "        elif i=='Iris-versicolor':\n",
    "            versi=versi+1\n",
    "        elif i=='Iris-setosa':\n",
    "            setos=setos+1\n",
    "    if vir>versi:\n",
    "        if vir>setos:\n",
    "            print(\"Iris-virginica\")\n",
    "        else:\n",
    "            print(\"Iris-setosa\")\n",
    "    elif versi>setos:\n",
    "        print(\"Iris-versicolor\")"
   ]
  },
  {
   "cell_type": "code",
   "execution_count": 9,
   "metadata": {},
   "outputs": [
    {
     "name": "stdout",
     "output_type": "stream",
     "text": [
      "Iris-versicolor\n"
     ]
    }
   ],
   "source": [
    "predict(ele)"
   ]
  },
  {
   "cell_type": "code",
   "execution_count": null,
   "metadata": {},
   "outputs": [],
   "source": []
  }
 ],
 "metadata": {
  "kernelspec": {
   "display_name": "Python 3",
   "language": "python",
   "name": "python3"
  },
  "language_info": {
   "codemirror_mode": {
    "name": "ipython",
    "version": 3
   },
   "file_extension": ".py",
   "mimetype": "text/x-python",
   "name": "python",
   "nbconvert_exporter": "python",
   "pygments_lexer": "ipython3",
   "version": "3.6.4"
  }
 },
 "nbformat": 4,
 "nbformat_minor": 2
}
